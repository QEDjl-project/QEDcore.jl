{
 "cells": [
  {
   "cell_type": "code",
   "execution_count": 36,
   "id": "6ae71618-1daa-44f9-89c8-1eea8771f543",
   "metadata": {},
   "outputs": [],
   "source": [
    "using QEDcore"
   ]
  },
  {
   "cell_type": "code",
   "execution_count": 37,
   "id": "ab930692-a6dc-4fb1-be0f-978ea78ac0bc",
   "metadata": {},
   "outputs": [
    {
     "data": {
      "text/plain": [
       "MersenneTwister(1)"
      ]
     },
     "execution_count": 37,
     "metadata": {},
     "output_type": "execute_result"
    }
   ],
   "source": [
    "using Random\n",
    "RNG = MersenneTwister(1)"
   ]
  },
  {
   "cell_type": "code",
   "execution_count": 59,
   "id": "365ef043-6105-4ae3-b1e0-3393a64acc73",
   "metadata": {},
   "outputs": [],
   "source": [
    "using BenchmarkTools\n",
    "using StaticArrays"
   ]
  },
  {
   "cell_type": "code",
   "execution_count": 85,
   "id": "ad8e396c-74a0-4470-a6da-e3275b48b229",
   "metadata": {},
   "outputs": [
    {
     "data": {
      "text/plain": [
       "4-element SFourMomentum with indices SOneTo(4):\n",
       " 10.073402263987031\n",
       "  0.9866663668987996\n",
       "  0.5557510873245723\n",
       "  0.43710797460962514"
      ]
     },
     "execution_count": 85,
     "metadata": {},
     "output_type": "execute_result"
    }
   ],
   "source": [
    "x,y,z = rand(RNG,3)\n",
    "E = sqrt(x^2 + y^2 + z^2+10^2)\n",
    "\n",
    "mom = SFourMomentum(E,x,y,z)"
   ]
  },
  {
   "cell_type": "code",
   "execution_count": 86,
   "id": "85e55fe1-ecbf-46bc-b1d8-273dfc18c1c6",
   "metadata": {},
   "outputs": [
    {
     "data": {
      "text/plain": [
       "BetaVector{Float64}(0.09794767855406572, 0.05517014736038222, 0.04339228824131349)"
      ]
     },
     "execution_count": 86,
     "metadata": {},
     "output_type": "execute_result"
    }
   ],
   "source": [
    "beta = BetaVector((mom[2:4]/mom[1])...)"
   ]
  },
  {
   "cell_type": "code",
   "execution_count": 87,
   "id": "02c2cad8-134b-48e3-9eed-e8dbe0cd6a18",
   "metadata": {},
   "outputs": [
    {
     "data": {
      "text/plain": [
       "Boost{BetaVector{Float64}}(BetaVector{Float64}(0.09794767855406572, 0.05517014736038222, 0.04339228824131349))"
      ]
     },
     "execution_count": 87,
     "metadata": {},
     "output_type": "execute_result"
    }
   ],
   "source": [
    "boost = Boost(beta)"
   ]
  },
  {
   "cell_type": "code",
   "execution_count": 88,
   "id": "7ef92a09-cb58-4ddc-bd06-210eea25af85",
   "metadata": {},
   "outputs": [
    {
     "data": {
      "text/plain": [
       "4-element SFourMomentum with indices SOneTo(4):\n",
       " 10.0\n",
       "  0.0\n",
       "  0.0\n",
       "  0.0"
      ]
     },
     "execution_count": 88,
     "metadata": {},
     "output_type": "execute_result"
    }
   ],
   "source": [
    "mom_rest = boost(mom)"
   ]
  },
  {
   "cell_type": "code",
   "execution_count": 89,
   "id": "08ec9352-5bd1-4c5d-97df-65859882ab8e",
   "metadata": {},
   "outputs": [
    {
     "data": {
      "text/plain": [
       "Boost{BetaVector{Float64}}(BetaVector{Float64}(-0.09794767855406572, -0.05517014736038222, -0.04339228824131349))"
      ]
     },
     "execution_count": 89,
     "metadata": {},
     "output_type": "execute_result"
    }
   ],
   "source": [
    "boost_back = inv(boost)"
   ]
  },
  {
   "cell_type": "code",
   "execution_count": 90,
   "id": "faa147ed-825c-462f-9c8f-d25c4e5db82b",
   "metadata": {},
   "outputs": [
    {
     "data": {
      "text/plain": [
       "4-element SFourMomentum with indices SOneTo(4):\n",
       " 1.7763568394002505e-15\n",
       " 1.1102230246251565e-16\n",
       " 1.1102230246251565e-16\n",
       " 1.1102230246251565e-16"
      ]
     },
     "execution_count": 90,
     "metadata": {},
     "output_type": "execute_result"
    }
   ],
   "source": [
    "boost_back(mom_rest) - mom"
   ]
  },
  {
   "cell_type": "code",
   "execution_count": 91,
   "id": "f5b65f5d-6042-45c0-b214-eb8eb43d8359",
   "metadata": {},
   "outputs": [
    {
     "data": {
      "text/plain": [
       "_unsafe_rest_boost (generic function with 1 method)"
      ]
     },
     "execution_count": 91,
     "metadata": {},
     "output_type": "execute_result"
    }
   ],
   "source": [
    "function _unsafe_rest_boost(p)\n",
    "    E = @inbounds p[1]\n",
    "    \n",
    "    isapprox(getMass(p),zero(E)) && @warn \"oh\"\n",
    "    \n",
    "    beta_val = SVector{3}(view(p,2:4))/E\n",
    "    beta = @inbounds BetaVector(beta_val...)\n",
    "    return Boost(beta)\n",
    "end"
   ]
  },
  {
   "cell_type": "code",
   "execution_count": 93,
   "id": "1cc5af0d-59de-4b33-b1cd-02a643578461",
   "metadata": {},
   "outputs": [
    {
     "data": {
      "text/plain": [
       "BenchmarkTools.Trial: 10000 samples with 1000 evaluations.\n",
       " Range \u001b[90m(\u001b[39m\u001b[36m\u001b[1mmin\u001b[22m\u001b[39m … \u001b[35mmax\u001b[39m\u001b[90m):  \u001b[39m\u001b[36m\u001b[1m7.041 ns\u001b[22m\u001b[39m … \u001b[35m27.833 ns\u001b[39m  \u001b[90m┊\u001b[39m GC \u001b[90m(\u001b[39mmin … max\u001b[90m): \u001b[39m0.00% … 0.00%\n",
       " Time  \u001b[90m(\u001b[39m\u001b[34m\u001b[1mmedian\u001b[22m\u001b[39m\u001b[90m):     \u001b[39m\u001b[34m\u001b[1m7.167 ns              \u001b[22m\u001b[39m\u001b[90m┊\u001b[39m GC \u001b[90m(\u001b[39mmedian\u001b[90m):    \u001b[39m0.00%\n",
       " Time  \u001b[90m(\u001b[39m\u001b[32m\u001b[1mmean\u001b[22m\u001b[39m ± \u001b[32mσ\u001b[39m\u001b[90m):   \u001b[39m\u001b[32m\u001b[1m7.191 ns\u001b[22m\u001b[39m ± \u001b[32m 0.453 ns\u001b[39m  \u001b[90m┊\u001b[39m GC \u001b[90m(\u001b[39mmean ± σ\u001b[90m):  \u001b[39m0.00% ± 0.00%\n",
       "\n",
       "  \u001b[39m \u001b[39m \u001b[39m \u001b[39m \u001b[39m \u001b[39m \u001b[39m \u001b[39m \u001b[39m▂\u001b[39m \u001b[39m \u001b[39m \u001b[39m \u001b[39m \u001b[39m \u001b[39m \u001b[39m▇\u001b[39m \u001b[39m \u001b[39m \u001b[39m \u001b[39m \u001b[39m \u001b[39m \u001b[39m█\u001b[34m \u001b[39m\u001b[39m \u001b[39m \u001b[39m \u001b[39m \u001b[32m \u001b[39m\u001b[39m \u001b[39m \u001b[39m▆\u001b[39m \u001b[39m \u001b[39m \u001b[39m \u001b[39m \u001b[39m \u001b[39m \u001b[39m▃\u001b[39m \u001b[39m \u001b[39m \u001b[39m \u001b[39m \u001b[39m \u001b[39m \u001b[39m▃\u001b[39m \u001b[39m \u001b[39m \u001b[39m \u001b[39m \u001b[39m \u001b[39m \u001b[39m▁\u001b[39m \u001b[39m▂\n",
       "  \u001b[39m▃\u001b[39m▁\u001b[39m▁\u001b[39m▁\u001b[39m▁\u001b[39m▁\u001b[39m▁\u001b[39m▁\u001b[39m█\u001b[39m▁\u001b[39m▁\u001b[39m▁\u001b[39m▁\u001b[39m▁\u001b[39m▁\u001b[39m▁\u001b[39m█\u001b[39m▁\u001b[39m▁\u001b[39m▁\u001b[39m▁\u001b[39m▁\u001b[39m▁\u001b[39m▁\u001b[39m█\u001b[34m▁\u001b[39m\u001b[39m▁\u001b[39m▁\u001b[39m▁\u001b[39m▁\u001b[32m▁\u001b[39m\u001b[39m▁\u001b[39m▁\u001b[39m█\u001b[39m▁\u001b[39m▁\u001b[39m▁\u001b[39m▁\u001b[39m▁\u001b[39m▁\u001b[39m▁\u001b[39m█\u001b[39m▁\u001b[39m▁\u001b[39m▁\u001b[39m▁\u001b[39m▁\u001b[39m▁\u001b[39m▁\u001b[39m█\u001b[39m▁\u001b[39m▁\u001b[39m▁\u001b[39m▁\u001b[39m▁\u001b[39m▁\u001b[39m▁\u001b[39m█\u001b[39m \u001b[39m█\n",
       "  7.04 ns\u001b[90m      \u001b[39m\u001b[90mHistogram: \u001b[39m\u001b[90m\u001b[1mlog(\u001b[22m\u001b[39m\u001b[90mfrequency\u001b[39m\u001b[90m\u001b[1m)\u001b[22m\u001b[39m\u001b[90m by time\u001b[39m     7.33 ns \u001b[0m\u001b[1m<\u001b[22m\n",
       "\n",
       " Memory estimate\u001b[90m: \u001b[39m\u001b[33m0 bytes\u001b[39m, allocs estimate\u001b[90m: \u001b[39m\u001b[33m0\u001b[39m."
      ]
     },
     "execution_count": 93,
     "metadata": {},
     "output_type": "execute_result"
    }
   ],
   "source": [
    "@benchmark _unsafe_rest_boost($mom)"
   ]
  },
  {
   "cell_type": "code",
   "execution_count": null,
   "id": "29d9683f-9cee-4d16-b9a9-caef7eb72b4d",
   "metadata": {},
   "outputs": [],
   "source": []
  }
 ],
 "metadata": {
  "kernelspec": {
   "display_name": "Julia 1.10.5",
   "language": "julia",
   "name": "julia-1.10"
  },
  "language_info": {
   "file_extension": ".jl",
   "mimetype": "application/julia",
   "name": "julia",
   "version": "1.10.5"
  }
 },
 "nbformat": 4,
 "nbformat_minor": 5
}
